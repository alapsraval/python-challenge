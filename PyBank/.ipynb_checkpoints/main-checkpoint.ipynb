{
 "cells": [
  {
   "cell_type": "code",
   "execution_count": 15,
   "metadata": {},
   "outputs": [
    {
     "name": "stdout",
     "output_type": "stream",
     "text": [
      "Financial Analysis\n",
      "----------------\n",
      "[116771, -662642, -391430, 379920, 212354, 510239, -428211, -821271, 693918, 416278, -974163, 860159, -1115009, 1033048, 95318, -308093, 99052, -521393, 605450, 231727, -65187, -702716, 177975, -1065544, 1926159, -917805, 898730, -334262, -246499, -64055, -1529236, 1497596, 304914, -635801, 398319, -183161, -37864, -253689, 403655, 94168, 306877, -83000, 210462, -2196167, 1465222, -956983, 1838447, -468003, -64602, 206242, -242155, -449079, 315198, 241099, 111540, 365942, -219310, -368665, 409837, 151210, -110244, -341938, -1212159, 683246, -70825, 335594, 417334, -272194, -236462, 657432, -211262, -128237, -1750387, 925441, 932089, -311434, 267252, -1876758, 1733696, 198551, -665765, 693229, -734926, 77242, 532869]\n",
      "Total Months: 86\n",
      "Total: $38382578\n",
      "Average Change: $-2288.2\n",
      "Greatest Increase in Profits: $1926159\n",
      "Greatest Decrease in Profits: $-2196167\n"
     ]
    }
   ],
   "source": [
    "#%%writefile main.py\n",
    "\n",
    "# Store the file path associated with the file (note the backslash may be OS specific)\n",
    "import os\n",
    "import csv\n",
    "\n",
    "csv_path = 'Resources/budget_data.csv'\n",
    "#csv_path = #os.path.join('Resources', 'budget_data.csv')\n",
    "#csvPath = os.path.abspath(\"Resources/budget_data.csv\")\n",
    "\n",
    "with open(csv_path) as csv_file:\n",
    "\n",
    "    # CSV reader specifies delimiter and variable that holds contents\n",
    "    csv_reader = csv.reader(csv_file, delimiter=',')\n",
    "\n",
    "    # Skip Header\n",
    "    csv_header = next(csv_reader)\n",
    "    total_months = 0\n",
    "    total_amount = 0\n",
    "    previous_amount = 0\n",
    "    current_amount = 0\n",
    "    changes = []\n",
    "    total_change = 0\n",
    "    average_change = 0 \n",
    "    max_change = 0\n",
    "    min_change = 0\n",
    "    \n",
    "    print (\"Financial Analysis\\n----------------\")\n",
    "\n",
    "    for row in csv_reader:\n",
    "        current_amount = row[1]\n",
    "        \n",
    "        \n",
    "        #Calculate change in \"Profit/Losses\" from a previous period after the first month.\n",
    "        if total_months > 0:\n",
    "            #changes.update({row[0]: (int(current_amount) - int(previous_amount))})\n",
    "            changes.append(int(current_amount) - int(previous_amount))\n",
    "        # The total number of months included in the dataset\n",
    "        total_months = total_months + 1\n",
    "        \n",
    "        # The net total amount of \"Profit/Losses\" over the entire period\n",
    "        total_amount = total_amount + int(current_amount)\n",
    "        \n",
    "        # Set value for the next iteration\n",
    "        previous_amount = current_amount\n",
    "    print(changes)\n",
    "    \n",
    "    #for (month, change) in changes.items():\n",
    "    for change in changes:\n",
    "        # The total change in \"Profit/Losses\"\n",
    "        total_change = total_change + change\n",
    "        \n",
    "    #The average of the changes in \"Profit/Losses\" over the entire period\n",
    "    average_change = total_change/total_months\n",
    "        \n",
    "    #Print results\n",
    "    print (f\"Total Months: {total_months}\")\n",
    "    print (f\"Total: ${total_amount}\")\n",
    "    print (f\"Average Change: ${round(average_change,2)}\")\n",
    "    print (f\"Greatest Increase in Profits: ${max(changes)}\")\n",
    "    print (f\"Greatest Decrease in Profits: ${min(changes)}\")\n",
    "    \n",
    "\n",
    "  # The greatest increase in profits (date and amount) over the entire period\n",
    "\n",
    "  # The greatest decrease in losses (date and amount) over the entire period\n"
   ]
  },
  {
   "cell_type": "code",
   "execution_count": null,
   "metadata": {},
   "outputs": [],
   "source": []
  }
 ],
 "metadata": {
  "kernelspec": {
   "display_name": "Python 3",
   "language": "python",
   "name": "python3"
  },
  "language_info": {
   "codemirror_mode": {
    "name": "ipython",
    "version": 3
   },
   "file_extension": ".py",
   "mimetype": "text/x-python",
   "name": "python",
   "nbconvert_exporter": "python",
   "pygments_lexer": "ipython3",
   "version": "3.7.4"
  }
 },
 "nbformat": 4,
 "nbformat_minor": 4
}
