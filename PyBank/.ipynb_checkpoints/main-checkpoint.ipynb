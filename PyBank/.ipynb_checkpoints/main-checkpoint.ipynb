{
 "cells": [
  {
   "cell_type": "code",
   "execution_count": 1,
   "metadata": {},
   "outputs": [
    {
     "name": "stdout",
     "output_type": "stream",
     "text": [
      "Financial Analysis\n",
      "------------------\n",
      "{'Feb-2010': 116771, 'Mar-2010': -662642, 'Apr-2010': -391430, 'May-2010': 379920, 'Jun-2010': 212354, 'Jul-2010': 510239, 'Aug-2010': -428211, 'Sep-2010': -821271, 'Oct-2010': 693918, 'Nov-2010': 416278, 'Dec-2010': -974163, 'Jan-2011': 860159, 'Feb-2011': -1115009, 'Mar-2011': 1033048, 'Apr-2011': 95318, 'May-2011': -308093, 'Jun-2011': 99052, 'Jul-2011': -521393, 'Aug-2011': 605450, 'Sep-2011': 231727, 'Oct-2011': -65187, 'Nov-2011': -702716, 'Dec-2011': 177975, 'Jan-2012': -1065544, 'Feb-2012': 1926159, 'Mar-2012': -917805, 'Apr-2012': 898730, 'May-2012': -334262, 'Jun-2012': -246499, 'Jul-2012': -64055, 'Aug-2012': -1529236, 'Sep-2012': 1497596, 'Oct-2012': 304914, 'Nov-2012': -635801, 'Dec-2012': 398319, 'Jan-2013': -183161, 'Feb-2013': -37864, 'Mar-2013': -253689, 'Apr-2013': 403655, 'May-2013': 94168, 'Jun-2013': 306877, 'Jul-2013': -83000, 'Aug-2013': 210462, 'Sep-2013': -2196167, 'Oct-2013': 1465222, 'Nov-2013': -956983, 'Dec-2013': 1838447, 'Jan-2014': -468003, 'Feb-2014': -64602, 'Mar-2014': 206242, 'Apr-2014': -242155, 'May-2014': -449079, 'Jun-2014': 315198, 'Jul-2014': 241099, 'Aug-2014': 111540, 'Sep-2014': 365942, 'Oct-2014': -219310, 'Nov-2014': -368665, 'Dec-2014': 409837, 'Jan-2015': 151210, 'Feb-2015': -110244, 'Mar-2015': -341938, 'Apr-2015': -1212159, 'May-2015': 683246, 'Jun-2015': -70825, 'Jul-2015': 335594, 'Aug-2015': 417334, 'Sep-2015': -272194, 'Oct-2015': -236462, 'Nov-2015': 657432, 'Dec-2015': -211262, 'Jan-2016': -128237, 'Feb-2016': -1750387, 'Mar-2016': 925441, 'Apr-2016': 932089, 'May-2016': -311434, 'Jun-2016': 267252, 'Jul-2016': -1876758, 'Aug-2016': 1733696, 'Sep-2016': 198551, 'Oct-2016': -665765, 'Nov-2016': 693229, 'Dec-2016': -734926, 'Jan-2017': 77242, 'Feb-2017': 532869}\n",
      "Total Months: 86\n",
      "Total: $38382578\n",
      "Average Change: $-2288.1976744186045\n",
      "Greatest Increase in Profits: $Sep-2016\n",
      "Greatest Decrease in Profits: $Apr-2010\n"
     ]
    }
   ],
   "source": [
    "#%%writefile main.py\n",
    "\n",
    "# Store the file path associated with the file (note the backslash may be OS specific)\n",
    "import os\n",
    "import csv\n",
    "\n",
    "csv_path = 'Resources/budget_data.csv'\n",
    "#csv_path = #os.path.join('Resources', 'budget_data.csv')\n",
    "#csvPath = os.path.abspath(\"Resources/budget_data.csv\")\n",
    "\n",
    "with open(csv_path) as csv_file:\n",
    "\n",
    "    # CSV reader specifies delimiter and variable that holds contents\n",
    "    csv_reader = csv.reader(csv_file, delimiter=',')\n",
    "\n",
    "    # Skip Header\n",
    "    csv_header = next(csv_reader)\n",
    "    total_months = 0\n",
    "    total_amount = 0\n",
    "    previous_amount = 0\n",
    "    current_amount = 0\n",
    "    changes = []\n",
    "    total_change = 0\n",
    "    average_change = 0 \n",
    "    max_change = 0\n",
    "    min_change = 0\n",
    "    \n",
    "    print (\"Financial Analysis\\n------------------\")\n",
    "\n",
    "    for row in csv_reader:\n",
    "        current_amount = row[1]\n",
    "        \n",
    "        \n",
    "        #Calculate change in \"Profit/Losses\" from a previous period after the first month.\n",
    "        if total_months > 0:\n",
    "            #changes.update({row[0]: (int(current_amount) - int(previous_amount))})\n",
    "            changes.update(int(current_amount) - int(previous_amount))\n",
    "        # The total number of months included in the dataset\n",
    "        total_months = total_months + 1\n",
    "        \n",
    "        # The net total amount of \"Profit/Losses\" over the entire period\n",
    "        total_amount = total_amount + int(current_amount)\n",
    "        \n",
    "        # Set value for the next iteration\n",
    "        previous_amount = current_amount\n",
    "    print(changes)\n",
    "    for (month, change) in changes.items():\n",
    "        # The total change in \"Profit/Losses\"\n",
    "        total_change = total_change + change\n",
    "        \n",
    "    #The average of the changes in \"Profit/Losses\" over the entire period\n",
    "    average_change = total_change/total_months\n",
    "        \n",
    "    #Print results\n",
    "    print (f\"Total Months: {total_months}\")\n",
    "    print (f\"Total: ${total_amount}\")\n",
    "    print (f\"Average Change: ${average_change}\")\n",
    "    print (f\"Greatest Increase in Profits: ${max(changes)}\")\n",
    "    print (f\"Greatest Decrease in Profits: ${min(changes)}\")\n",
    "    \n",
    "\n",
    "  # The greatest increase in profits (date and amount) over the entire period\n",
    "\n",
    "  # The greatest decrease in losses (date and amount) over the entire period\n"
   ]
  },
  {
   "cell_type": "code",
   "execution_count": null,
   "metadata": {},
   "outputs": [],
   "source": []
  }
 ],
 "metadata": {
  "kernelspec": {
   "display_name": "Python 3",
   "language": "python",
   "name": "python3"
  },
  "language_info": {
   "codemirror_mode": {
    "name": "ipython",
    "version": 3
   },
   "file_extension": ".py",
   "mimetype": "text/x-python",
   "name": "python",
   "nbconvert_exporter": "python",
   "pygments_lexer": "ipython3",
   "version": "3.7.4"
  }
 },
 "nbformat": 4,
 "nbformat_minor": 4
}
