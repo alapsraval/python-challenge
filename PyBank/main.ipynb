{
 "cells": [
  {
   "cell_type": "code",
   "execution_count": 5,
   "metadata": {
    "scrolled": true
   },
   "outputs": [
    {
     "name": "stdout",
     "output_type": "stream",
     "text": [
      "Overwriting main.py\n"
     ]
    }
   ],
   "source": [
    "%%writefile main.py\n",
    "\n",
    "# Store the file path associated with the file (note the backslash may be OS specific)\n",
    "import os\n",
    "import csv\n",
    "\n",
    "#csv_path = 'Resources/budget_data.csv'\n",
    "csv_path = os.path.join('Resources', 'budget_data.csv')\n",
    "\n",
    "with open(csv_path) as csv_file:\n",
    "\n",
    "    # CSV reader specifies delimiter and variable that holds contents\n",
    "    csv_reader = csv.reader(csv_file, delimiter=',')\n",
    "\n",
    "    # Skip Header\n",
    "    csv_header = next(csv_reader)\n",
    "    total_months = 0\n",
    "    total_amount = 0\n",
    "    previous_amount = 0\n",
    "    current_amount = 0\n",
    "    changes = {}\n",
    "    total_change = 0\n",
    "    average_change = 0 \n",
    "    max_change = 0\n",
    "    min_change = 0\n",
    "    \n",
    "    print (\"Financial Analysis\\n------------------\")\n",
    "\n",
    "    for row in csv_reader:\n",
    "        current_amount = row[1]\n",
    "        \n",
    "        #Calculate change in \"Profit/Losses\" from a previous period after the first month.\n",
    "        if total_months > 0:\n",
    "            changes.update({row[0]: (int(current_amount) - int(previous_amount))})\n",
    "            \n",
    "        # The total number of months included in the dataset\n",
    "        total_months = total_months + 1\n",
    "        \n",
    "        # The net total amount of \"Profit/Losses\" over the entire period\n",
    "        total_amount = total_amount + int(current_amount)\n",
    "        \n",
    "        # Set value for the next iteration\n",
    "        previous_amount = current_amount\n",
    "\n",
    "    for (month, change) in changes.items():\n",
    "        # The total change in \"Profit/Losses\"\n",
    "        total_change = total_change + change\n",
    "        \n",
    "    #The average of the changes in \"Profit/Losses\" over the entire period. Make sure to devide total_change by n-1\n",
    "\n",
    "    average_change = total_change/(total_months-1)\n",
    "\n",
    "    # The greatest increase in profits (date and amount) over the entire period\n",
    "    max_change = max(changes.items(), key=lambda x : x[1])\n",
    "    \n",
    "    # The greatest decrease in losses (date and amount) over the entire period\n",
    "    min_change = min(changes.items(), key=lambda x : x[1])\n",
    "        \n",
    "    #Print results\n",
    "    print (f\"Total Months: {total_months}\")\n",
    "    print (f\"Total: ${total_amount}\")\n",
    "    print (f\"Average Change: ${round(average_change,2)}\")\n",
    "    print (f\"Greatest Increase in Profits: {max_change[0]} (${max_change[1]})\")\n",
    "    print (f\"Greatest Decrease in Profits: {min_change[0]} (${min_change[1]})\")\n",
    "    \n",
    "    # In addition, your final script should both print the analysis to the terminal and export a text file with the results.\n",
    "    with open('results.txt', 'w') as output_file: \n",
    "        output_file.write (\"Financial Analysis\\n------------------\\n\")\n",
    "        output_file.write (f\"Total Months: {total_months}\\n\")\n",
    "        output_file.write (f\"Total: ${total_amount}\\n\")\n",
    "        output_file.write (f\"Average Change: ${round(average_change,2)}\\n\")\n",
    "        output_file.write (f\"Greatest Increase in Profits: {max_change[0]} (${max_change[1]})\\n\")\n",
    "        output_file.write (f\"Greatest Decrease in Profits: {min_change[0]} (${min_change[1]})\")"
   ]
  },
  {
   "cell_type": "code",
   "execution_count": null,
   "metadata": {},
   "outputs": [],
   "source": []
  }
 ],
 "metadata": {
  "kernelspec": {
   "display_name": "Python 3",
   "language": "python",
   "name": "python3"
  },
  "language_info": {
   "codemirror_mode": {
    "name": "ipython",
    "version": 3
   },
   "file_extension": ".py",
   "mimetype": "text/x-python",
   "name": "python",
   "nbconvert_exporter": "python",
   "pygments_lexer": "ipython3",
   "version": "3.7.4"
  }
 },
 "nbformat": 4,
 "nbformat_minor": 4
}
