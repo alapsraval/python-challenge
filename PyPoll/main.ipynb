{
 "cells": [
  {
   "cell_type": "code",
   "execution_count": 8,
   "metadata": {},
   "outputs": [
    {
     "name": "stdout",
     "output_type": "stream",
     "text": [
      "Writing main.py\n"
     ]
    }
   ],
   "source": [
    "#%%writefile main.py\n",
    "\n",
    "# In this challenge, you are tasked with helping a small, rural town modernize its vote-counting process. \n",
    "#(Up until now, Uncle Cleetus had been trustfully tallying them one-by-one, but unfortunately, his concentration isn't what it used to be.)\n",
    "\n",
    "# You will be give a set of poll data called [election_data.csv]. \n",
    "# The dataset is composed of three columns: `Voter ID`, `County`, and `Candidate`. \n",
    "# Your task is to create a Python script that analyzes the votes and calculates each of the following:\n",
    "\n",
    "  # The total number of votes cast\n",
    "\n",
    "  # A complete list of candidates who received votes\n",
    "\n",
    "  # The percentage of votes each candidate won\n",
    "\n",
    "  # The total number of votes each candidate won\n",
    "\n",
    "  # The winner of the election based on popular vote.\n",
    "    \n",
    "import os\n",
    "import csv\n",
    "import statistics \n",
    "\n",
    "csv_path = os.path.join('Resources', 'election_data.csv')\n",
    "\n",
    "with open(csv_path) as csv_file:\n",
    "    csv_reader = csv.reader(csv_file, delimiter=',')\n",
    "\n",
    "    # Skip Header\n",
    "    csv_header = next(csv_reader)\n",
    "    \n",
    "    # The total number of votes cast\n",
    "    total_votes = 0\n",
    "    # A complete list of candidates who received votes\n",
    "    candidates = dict()\n",
    "    winner = ''\n",
    "    \n",
    "    for row in csv_reader:\n",
    "        total_votes = total_votes + 1\n",
    "        if row[2] in candidates:\n",
    "            candidates[row[2]] = candidates[row[2]] + 1\n",
    "        else:\n",
    "            candidates[row[2]] = 1\n",
    "    # The winner of the election based on popular vote.        \n",
    "    winner = max(candidates.items(), key=lambda x : x[1])\n",
    "\n",
    "    #Print results\n",
    "\n",
    "    print(\"Election Results\")\n",
    "    print(\"-------------------------\")\n",
    "    print(f\"Total Votes: {total_votes}\")\n",
    "    print(\"-------------------------\")\n",
    "    \n",
    "    # The percentage of votes each candidate won\n",
    "    # The total number of votes each candidate won\n",
    "    for candidate, votes in candidates.items():\n",
    "        print(f\"{candidate}: {round(votes*100/total_votes,3)}% ({votes})\")\n",
    "    print(\"-------------------------\")\n",
    "    print(f\"Winner: {winner[0]}\")\n",
    "    print(\"-------------------------\")\n",
    "    \n",
    "    # In addition, your final script should both print the analysis to the terminal and export a text file with the results.\n",
    "    with open('results.txt', 'w') as output_file: \n",
    "        output_file.write(\"Election Results\\n-------------------------\\n\")\n",
    "        output_file.write(f\"Total Votes: {total_votes}\\n\")\n",
    "        output_file.write(\"-------------------------\\n\")\n",
    "        for candidate, votes in candidates.items():\n",
    "            output_file.write(f\"{candidate}: {round(votes*100/total_votes,3)}% ({votes})\\n\")\n",
    "        output_file.write(\"-------------------------\\n\")    \n",
    "        output_file.write(f\"Winner: {winner[0]}\\n\")\n",
    "        output_file.write(\"-------------------------\")    "
   ]
  },
  {
   "cell_type": "code",
   "execution_count": null,
   "metadata": {},
   "outputs": [],
   "source": []
  }
 ],
 "metadata": {
  "kernelspec": {
   "display_name": "Python 3",
   "language": "python",
   "name": "python3"
  },
  "language_info": {
   "codemirror_mode": {
    "name": "ipython",
    "version": 3
   },
   "file_extension": ".py",
   "mimetype": "text/x-python",
   "name": "python",
   "nbconvert_exporter": "python",
   "pygments_lexer": "ipython3",
   "version": "3.7.4"
  }
 },
 "nbformat": 4,
 "nbformat_minor": 4
}
