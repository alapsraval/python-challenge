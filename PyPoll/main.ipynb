{
 "cells": [
  {
   "cell_type": "code",
   "execution_count": 8,
   "metadata": {},
   "outputs": [
    {
     "name": "stdout",
     "output_type": "stream",
     "text": [
      "['Voter ID', 'County', 'Candidate']\n",
      "Election Results\n",
      "-------------------------\n",
      "Total Votes: 3521001\n",
      "-------------------------\n",
      "Khan: \n",
      "Correy: \n",
      "Li: \n",
      "O'Tooley: \n",
      "-------------------------\n",
      "Winner: \n",
      "-------------------------\n"
     ]
    }
   ],
   "source": [
    "# In this challenge, you are tasked with helping a small, rural town modernize its vote-counting process. \n",
    "#(Up until now, Uncle Cleetus had been trustfully tallying them one-by-one, but unfortunately, his concentration isn't what it used to be.)\n",
    "\n",
    "# You will be give a set of poll data called [election_data.csv]. \n",
    "# The dataset is composed of three columns: `Voter ID`, `County`, and `Candidate`. \n",
    "# Your task is to create a Python script that analyzes the votes and calculates each of the following:\n",
    "\n",
    "  # The total number of votes cast\n",
    "\n",
    "  # A complete list of candidates who received votes\n",
    "\n",
    "  # The percentage of votes each candidate won\n",
    "\n",
    "  # The total number of votes each candidate won\n",
    "\n",
    "  # The winner of the election based on popular vote.\n",
    "    \n",
    "import os\n",
    "import csv\n",
    "import statistics \n",
    "\n",
    "csv_path = os.path.join('Resources', 'election_data.csv')\n",
    "\n",
    "with open(csv_path) as csv_file:\n",
    "    csv_reader = csv.reader(csv_file, delimiter=',')\n",
    "\n",
    "# Skip Header\n",
    "\n",
    "    csv_header = next(csv_reader)\n",
    "    print(csv_header)\n",
    "    \n",
    "    # The total number of votes cast\n",
    "    total_votes = 0\n",
    "    candidates = []\n",
    "    winner = ''\n",
    "    \n",
    "    for row in csv_reader:\n",
    "        total_votes = total_votes + 1\n",
    "        if row[2] not in candidates:\n",
    "            candidates.append(row[2])\n",
    "        \n",
    "   \n",
    "    print(\"Election Results\")\n",
    "    print(\"-------------------------\")\n",
    "    print(f\"Total Votes: {total_votes}\")\n",
    "    print(\"-------------------------\")\n",
    "    for candidate in candidates:\n",
    "        print(f\"{candidate}: \")\n",
    "    print(\"-------------------------\")\n",
    "    print(f\"Winner: {winner}\")\n",
    "    print(\"-------------------------\")"
   ]
  },
  {
   "cell_type": "code",
   "execution_count": null,
   "metadata": {},
   "outputs": [],
   "source": []
  }
 ],
 "metadata": {
  "kernelspec": {
   "display_name": "Python 3",
   "language": "python",
   "name": "python3"
  },
  "language_info": {
   "codemirror_mode": {
    "name": "ipython",
    "version": 3
   },
   "file_extension": ".py",
   "mimetype": "text/x-python",
   "name": "python",
   "nbconvert_exporter": "python",
   "pygments_lexer": "ipython3",
   "version": "3.7.4"
  }
 },
 "nbformat": 4,
 "nbformat_minor": 4
}
